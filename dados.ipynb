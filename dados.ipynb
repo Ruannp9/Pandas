{
 "cells": [
  {
   "cell_type": "code",
   "execution_count": null,
   "metadata": {},
   "outputs": [],
   "source": [
    "import pandas as pd"
   ]
  },
  {
   "cell_type": "code",
   "execution_count": null,
   "metadata": {},
   "outputs": [
    {
     "data": {
      "text/plain": [
       "Traceback (most recent call last):\n",
       "  File \"c:\\Users\\Aluno\\.vscode\\extensions\\ms-python.python-2024.16.1-win32-x64\\python_files\\python_server.py\", line 130, in exec_user_input\n",
       "    retval = callable_(user_input, user_globals)\n",
       "             ^^^^^^^^^^^^^^^^^^^^^^^^^^^^^^^^^^^\n",
       "  File \"<string>\", line 1, in <module>\n",
       "  File \"C:\\Users\\Aluno\\AppData\\Local\\Programs\\Python\\Python311\\Lib\\site-packages\\pandas\\io\\excel\\_base.py\", line 478, in read_excel\n",
       "    io = ExcelFile(io, storage_options=storage_options, engine=engine)\n",
       "         ^^^^^^^^^^^^^^^^^^^^^^^^^^^^^^^^^^^^^^^^^^^^^^^^^^^^^^^^^^^^^\n",
       "  File \"C:\\Users\\Aluno\\AppData\\Local\\Programs\\Python\\Python311\\Lib\\site-packages\\pandas\\io\\excel\\_base.py\", line 1496, in __init__\n",
       "    ext = inspect_excel_format(\n",
       "          ^^^^^^^^^^^^^^^^^^^^^\n",
       "  File \"C:\\Users\\Aluno\\AppData\\Local\\Programs\\Python\\Python311\\Lib\\site-packages\\pandas\\io\\excel\\_base.py\", line 1371, in inspect_excel_format\n",
       "    with get_handle(\n",
       "         ^^^^^^^^^^^\n",
       "  File \"C:\\Users\\Aluno\\AppData\\Local\\Programs\\Python\\Python311\\Lib\\site-packages\\pandas\\io\\common.py\", line 868, in get_handle\n",
       "    handle = open(handle, ioargs.mode)\n",
       "             ^^^^^^^^^^^^^^^^^^^^^^^^^\n",
       "FileNotFoundError: [Errno 2] No such file or directory: 'dados.rev2.xlsx'\n",
       "\n"
      ]
     },
     "metadata": {},
     "output_type": "display_data"
    }
   ],
   "source": [
    "df = pd.read_excel('dados.rev2.xlsx')"
   ]
  }
 ],
 "metadata": {
  "language_info": {
   "name": "python"
  }
 },
 "nbformat": 4,
 "nbformat_minor": 2
}
